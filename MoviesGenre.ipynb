{
 "cells": [
  {
   "cell_type": "code",
   "execution_count": 1,
   "id": "04741e0e",
   "metadata": {},
   "outputs": [],
   "source": [
    "import pandas as pd\n",
    "import numpy as np\n",
    "import re\n",
    "from keras.preprocessing import image\n",
    "from keras.models import Sequential\n",
    "from keras.layers import Dense, Dropout, Flatten\n",
    "from keras.layers import Conv2D, MaxPooling2D\n",
    "import matplotlib.pyplot as plt\n",
    "from sklearn.model_selection import train_test_split\n",
    "import tensorflow as tf"
   ]
  },
  {
   "cell_type": "code",
   "execution_count": 6,
   "id": "129caa72",
   "metadata": {},
   "outputs": [
    {
     "data": {
      "text/plain": [
       "(7254, 27)"
      ]
     },
     "execution_count": 6,
     "metadata": {},
     "output_type": "execute_result"
    }
   ],
   "source": [
    "df = pd.read_csv('./movies_images/train.csv')\n",
    "df.shape"
   ]
  },
  {
   "cell_type": "code",
   "execution_count": 7,
   "id": "b7b2f5b5",
   "metadata": {},
   "outputs": [
    {
     "data": {
      "text/html": [
       "<div>\n",
       "<style scoped>\n",
       "    .dataframe tbody tr th:only-of-type {\n",
       "        vertical-align: middle;\n",
       "    }\n",
       "\n",
       "    .dataframe tbody tr th {\n",
       "        vertical-align: top;\n",
       "    }\n",
       "\n",
       "    .dataframe thead th {\n",
       "        text-align: right;\n",
       "    }\n",
       "</style>\n",
       "<table border=\"1\" class=\"dataframe\">\n",
       "  <thead>\n",
       "    <tr style=\"text-align: right;\">\n",
       "      <th></th>\n",
       "      <th>Id</th>\n",
       "      <th>Genre</th>\n",
       "      <th>Action</th>\n",
       "      <th>Adventure</th>\n",
       "      <th>Animation</th>\n",
       "      <th>Biography</th>\n",
       "      <th>Comedy</th>\n",
       "      <th>Crime</th>\n",
       "      <th>Documentary</th>\n",
       "      <th>Drama</th>\n",
       "      <th>...</th>\n",
       "      <th>N/A</th>\n",
       "      <th>News</th>\n",
       "      <th>Reality-TV</th>\n",
       "      <th>Romance</th>\n",
       "      <th>Sci-Fi</th>\n",
       "      <th>Short</th>\n",
       "      <th>Sport</th>\n",
       "      <th>Thriller</th>\n",
       "      <th>War</th>\n",
       "      <th>Western</th>\n",
       "    </tr>\n",
       "  </thead>\n",
       "  <tbody>\n",
       "    <tr>\n",
       "      <th>0</th>\n",
       "      <td>tt0086425</td>\n",
       "      <td>['Comedy', 'Drama']</td>\n",
       "      <td>0</td>\n",
       "      <td>0</td>\n",
       "      <td>0</td>\n",
       "      <td>0</td>\n",
       "      <td>1</td>\n",
       "      <td>0</td>\n",
       "      <td>0</td>\n",
       "      <td>1</td>\n",
       "      <td>...</td>\n",
       "      <td>0</td>\n",
       "      <td>0</td>\n",
       "      <td>0</td>\n",
       "      <td>0</td>\n",
       "      <td>0</td>\n",
       "      <td>0</td>\n",
       "      <td>0</td>\n",
       "      <td>0</td>\n",
       "      <td>0</td>\n",
       "      <td>0</td>\n",
       "    </tr>\n",
       "    <tr>\n",
       "      <th>1</th>\n",
       "      <td>tt0085549</td>\n",
       "      <td>['Drama', 'Romance', 'Music']</td>\n",
       "      <td>0</td>\n",
       "      <td>0</td>\n",
       "      <td>0</td>\n",
       "      <td>0</td>\n",
       "      <td>0</td>\n",
       "      <td>0</td>\n",
       "      <td>0</td>\n",
       "      <td>1</td>\n",
       "      <td>...</td>\n",
       "      <td>0</td>\n",
       "      <td>0</td>\n",
       "      <td>0</td>\n",
       "      <td>1</td>\n",
       "      <td>0</td>\n",
       "      <td>0</td>\n",
       "      <td>0</td>\n",
       "      <td>0</td>\n",
       "      <td>0</td>\n",
       "      <td>0</td>\n",
       "    </tr>\n",
       "    <tr>\n",
       "      <th>2</th>\n",
       "      <td>tt0086465</td>\n",
       "      <td>['Comedy']</td>\n",
       "      <td>0</td>\n",
       "      <td>0</td>\n",
       "      <td>0</td>\n",
       "      <td>0</td>\n",
       "      <td>1</td>\n",
       "      <td>0</td>\n",
       "      <td>0</td>\n",
       "      <td>0</td>\n",
       "      <td>...</td>\n",
       "      <td>0</td>\n",
       "      <td>0</td>\n",
       "      <td>0</td>\n",
       "      <td>0</td>\n",
       "      <td>0</td>\n",
       "      <td>0</td>\n",
       "      <td>0</td>\n",
       "      <td>0</td>\n",
       "      <td>0</td>\n",
       "      <td>0</td>\n",
       "    </tr>\n",
       "    <tr>\n",
       "      <th>3</th>\n",
       "      <td>tt0086567</td>\n",
       "      <td>['Sci-Fi', 'Thriller']</td>\n",
       "      <td>0</td>\n",
       "      <td>0</td>\n",
       "      <td>0</td>\n",
       "      <td>0</td>\n",
       "      <td>0</td>\n",
       "      <td>0</td>\n",
       "      <td>0</td>\n",
       "      <td>0</td>\n",
       "      <td>...</td>\n",
       "      <td>0</td>\n",
       "      <td>0</td>\n",
       "      <td>0</td>\n",
       "      <td>0</td>\n",
       "      <td>1</td>\n",
       "      <td>0</td>\n",
       "      <td>0</td>\n",
       "      <td>1</td>\n",
       "      <td>0</td>\n",
       "      <td>0</td>\n",
       "    </tr>\n",
       "    <tr>\n",
       "      <th>4</th>\n",
       "      <td>tt0086034</td>\n",
       "      <td>['Action', 'Adventure', 'Thriller']</td>\n",
       "      <td>1</td>\n",
       "      <td>1</td>\n",
       "      <td>0</td>\n",
       "      <td>0</td>\n",
       "      <td>0</td>\n",
       "      <td>0</td>\n",
       "      <td>0</td>\n",
       "      <td>0</td>\n",
       "      <td>...</td>\n",
       "      <td>0</td>\n",
       "      <td>0</td>\n",
       "      <td>0</td>\n",
       "      <td>0</td>\n",
       "      <td>0</td>\n",
       "      <td>0</td>\n",
       "      <td>0</td>\n",
       "      <td>1</td>\n",
       "      <td>0</td>\n",
       "      <td>0</td>\n",
       "    </tr>\n",
       "  </tbody>\n",
       "</table>\n",
       "<p>5 rows × 27 columns</p>\n",
       "</div>"
      ],
      "text/plain": [
       "          Id                                Genre  Action  Adventure  \\\n",
       "0  tt0086425                  ['Comedy', 'Drama']       0          0   \n",
       "1  tt0085549        ['Drama', 'Romance', 'Music']       0          0   \n",
       "2  tt0086465                           ['Comedy']       0          0   \n",
       "3  tt0086567               ['Sci-Fi', 'Thriller']       0          0   \n",
       "4  tt0086034  ['Action', 'Adventure', 'Thriller']       1          1   \n",
       "\n",
       "   Animation  Biography  Comedy  Crime  Documentary  Drama  ...  N/A  News  \\\n",
       "0          0          0       1      0            0      1  ...    0     0   \n",
       "1          0          0       0      0            0      1  ...    0     0   \n",
       "2          0          0       1      0            0      0  ...    0     0   \n",
       "3          0          0       0      0            0      0  ...    0     0   \n",
       "4          0          0       0      0            0      0  ...    0     0   \n",
       "\n",
       "   Reality-TV  Romance  Sci-Fi  Short  Sport  Thriller  War  Western  \n",
       "0           0        0       0      0      0         0    0        0  \n",
       "1           0        1       0      0      0         0    0        0  \n",
       "2           0        0       0      0      0         0    0        0  \n",
       "3           0        0       1      0      0         1    0        0  \n",
       "4           0        0       0      0      0         1    0        0  \n",
       "\n",
       "[5 rows x 27 columns]"
      ]
     },
     "execution_count": 7,
     "metadata": {},
     "output_type": "execute_result"
    }
   ],
   "source": [
    "df.head()"
   ]
  },
  {
   "cell_type": "code",
   "execution_count": 8,
   "id": "623b2201",
   "metadata": {},
   "outputs": [],
   "source": [
    "images_list = []\n",
    "for i in range(0, df.shape[0]):\n",
    "    img = image.load_img('./movies_images/Images/' + df['Id'][i] + '.jpg')\n",
    "    img = image.img_to_array(img)\n",
    "    img = img/255\n",
    "    images_list.append(img)"
   ]
  },
  {
   "cell_type": "code",
   "execution_count": 9,
   "id": "186a5884",
   "metadata": {},
   "outputs": [],
   "source": [
    "def getMinSize(images_list):\n",
    "    min_width = 100000;\n",
    "    min_height = 100000;\n",
    "    \n",
    "    for i in range(0, len(images_list)):\n",
    "        if (images_list[i].shape[0] < min_width):\n",
    "            min_width = images_list[i].shape[0]\n",
    "        if (images_list[i].shape[1] < min_height):\n",
    "            min_height = images_list[i].shape[1]\n",
    "            \n",
    "    return min_width, min_height"
   ]
  },
  {
   "cell_type": "code",
   "execution_count": 10,
   "id": "7a32f628",
   "metadata": {},
   "outputs": [
    {
     "data": {
      "text/plain": [
       "(132, 89)"
      ]
     },
     "execution_count": 10,
     "metadata": {},
     "output_type": "execute_result"
    }
   ],
   "source": [
    "size = getMinSize(images_list)\n",
    "size"
   ]
  },
  {
   "cell_type": "code",
   "execution_count": 11,
   "id": "94cd415b",
   "metadata": {},
   "outputs": [],
   "source": [
    "images_list_resized = [image.smart_resize(img, size) for img in images_list]"
   ]
  },
  {
   "cell_type": "code",
   "execution_count": 12,
   "id": "2ef98e9a",
   "metadata": {},
   "outputs": [
    {
     "data": {
      "text/plain": [
       "(7254, 132, 89, 3)"
      ]
     },
     "execution_count": 12,
     "metadata": {},
     "output_type": "execute_result"
    }
   ],
   "source": [
    "X = np.array(images_list_resized)\n",
    "X.shape"
   ]
  },
  {
   "cell_type": "code",
   "execution_count": 13,
   "id": "1ed52c8c",
   "metadata": {},
   "outputs": [
    {
     "data": {
      "text/plain": [
       "(7254, 25)"
      ]
     },
     "execution_count": 13,
     "metadata": {},
     "output_type": "execute_result"
    }
   ],
   "source": [
    "y = np.array(df.drop(['Id', 'Genre'],axis=1))\n",
    "y.shape"
   ]
  },
  {
   "cell_type": "code",
   "execution_count": 14,
   "id": "c490a9dd",
   "metadata": {},
   "outputs": [],
   "source": [
    "X_train, X_test, y_train, y_test = train_test_split(X, y, random_state=42, test_size=0.2)"
   ]
  },
  {
   "cell_type": "code",
   "execution_count": 15,
   "id": "fc796d44",
   "metadata": {},
   "outputs": [],
   "source": [
    "model = Sequential()\n",
    "model.add(Conv2D(filters=16, kernel_size=(5, 5), activation=\"relu\", input_shape=images_list_resized[0].shape))\n",
    "model.add(MaxPooling2D(pool_size=(2, 2)))\n",
    "model.add(Dropout(0.25))\n",
    "model.add(Conv2D(filters=32, kernel_size=(5, 5), activation='relu'))\n",
    "model.add(MaxPooling2D(pool_size=(2, 2)))\n",
    "model.add(Dropout(0.25))\n",
    "model.add(Conv2D(filters=64, kernel_size=(5, 5), activation=\"relu\"))\n",
    "model.add(MaxPooling2D(pool_size=(2, 2)))\n",
    "model.add(Dropout(0.25))\n",
    "model.add(Conv2D(filters=64, kernel_size=(5, 5), activation='relu'))\n",
    "model.add(MaxPooling2D(pool_size=(2, 2)))\n",
    "model.add(Dropout(0.25))\n",
    "model.add(Flatten())\n",
    "model.add(Dense(25, activation='sigmoid'))"
   ]
  },
  {
   "cell_type": "code",
   "execution_count": 16,
   "id": "c43eee47",
   "metadata": {},
   "outputs": [
    {
     "name": "stdout",
     "output_type": "stream",
     "text": [
      "Model: \"sequential\"\n",
      "_________________________________________________________________\n",
      " Layer (type)                Output Shape              Param #   \n",
      "=================================================================\n",
      " conv2d (Conv2D)             (None, 128, 85, 16)       1216      \n",
      "                                                                 \n",
      " max_pooling2d (MaxPooling2  (None, 64, 42, 16)        0         \n",
      " D)                                                              \n",
      "                                                                 \n",
      " dropout (Dropout)           (None, 64, 42, 16)        0         \n",
      "                                                                 \n",
      " conv2d_1 (Conv2D)           (None, 60, 38, 32)        12832     \n",
      "                                                                 \n",
      " max_pooling2d_1 (MaxPoolin  (None, 30, 19, 32)        0         \n",
      " g2D)                                                            \n",
      "                                                                 \n",
      " dropout_1 (Dropout)         (None, 30, 19, 32)        0         \n",
      "                                                                 \n",
      " conv2d_2 (Conv2D)           (None, 26, 15, 64)        51264     \n",
      "                                                                 \n",
      " max_pooling2d_2 (MaxPoolin  (None, 13, 7, 64)         0         \n",
      " g2D)                                                            \n",
      "                                                                 \n",
      " dropout_2 (Dropout)         (None, 13, 7, 64)         0         \n",
      "                                                                 \n",
      " conv2d_3 (Conv2D)           (None, 9, 3, 64)          102464    \n",
      "                                                                 \n",
      " max_pooling2d_3 (MaxPoolin  (None, 4, 1, 64)          0         \n",
      " g2D)                                                            \n",
      "                                                                 \n",
      " dropout_3 (Dropout)         (None, 4, 1, 64)          0         \n",
      "                                                                 \n",
      " flatten (Flatten)           (None, 256)               0         \n",
      "                                                                 \n",
      " dense (Dense)               (None, 25)                6425      \n",
      "                                                                 \n",
      "=================================================================\n",
      "Total params: 174201 (680.47 KB)\n",
      "Trainable params: 174201 (680.47 KB)\n",
      "Non-trainable params: 0 (0.00 Byte)\n",
      "_________________________________________________________________\n"
     ]
    }
   ],
   "source": [
    "model.summary()"
   ]
  },
  {
   "cell_type": "code",
   "execution_count": 17,
   "id": "23d244e5",
   "metadata": {},
   "outputs": [],
   "source": [
    "model.compile(optimizer='adam', loss='binary_crossentropy', metrics=['accuracy'])"
   ]
  },
  {
   "cell_type": "code",
   "execution_count": 18,
   "id": "9a4a734e",
   "metadata": {},
   "outputs": [],
   "source": [
    "X_train = np.asarray(X_train).astype(np.float32)\n",
    "X_test = np.asarray(X_test).astype(np.float32)\n",
    "y_train = np.asarray(y_train).astype(np.float32)\n",
    "y_test = np.asarray(y_test).astype(np.float32)"
   ]
  },
  {
   "cell_type": "code",
   "execution_count": 19,
   "id": "4053059f",
   "metadata": {},
   "outputs": [
    {
     "name": "stdout",
     "output_type": "stream",
     "text": [
      "Epoch 1/10\n",
      "91/91 [==============================] - 15s 154ms/step - loss: 0.2834 - accuracy: 0.2164 - val_loss: 0.3022 - val_accuracy: 0.1964\n",
      "Epoch 2/10\n",
      "91/91 [==============================] - 14s 155ms/step - loss: 0.2482 - accuracy: 0.2600 - val_loss: 0.2686 - val_accuracy: 0.2957\n",
      "Epoch 3/10\n",
      "91/91 [==============================] - 14s 155ms/step - loss: 0.2428 - accuracy: 0.2835 - val_loss: 0.2658 - val_accuracy: 0.3356\n",
      "Epoch 4/10\n",
      "91/91 [==============================] - 14s 153ms/step - loss: 0.2415 - accuracy: 0.2862 - val_loss: 0.2532 - val_accuracy: 0.3405\n",
      "Epoch 5/10\n",
      "91/91 [==============================] - 14s 153ms/step - loss: 0.2388 - accuracy: 0.3067 - val_loss: 0.2538 - val_accuracy: 0.3060\n",
      "Epoch 6/10\n",
      "91/91 [==============================] - 14s 154ms/step - loss: 0.2370 - accuracy: 0.3190 - val_loss: 0.2536 - val_accuracy: 0.3343\n",
      "Epoch 7/10\n",
      "91/91 [==============================] - 14s 157ms/step - loss: 0.2364 - accuracy: 0.3204 - val_loss: 0.2466 - val_accuracy: 0.3046\n",
      "Epoch 8/10\n",
      "91/91 [==============================] - 14s 155ms/step - loss: 0.2358 - accuracy: 0.3174 - val_loss: 0.2379 - val_accuracy: 0.3260\n",
      "Epoch 9/10\n",
      "91/91 [==============================] - 14s 156ms/step - loss: 0.2341 - accuracy: 0.3247 - val_loss: 0.2392 - val_accuracy: 0.3577\n",
      "Epoch 10/10\n",
      "91/91 [==============================] - 14s 154ms/step - loss: 0.2339 - accuracy: 0.3262 - val_loss: 0.2518 - val_accuracy: 0.2261\n"
     ]
    }
   ],
   "source": [
    "history = model.fit(X_train, y_train, epochs=10, validation_data=(X_test, y_test), batch_size=64)"
   ]
  },
  {
   "cell_type": "code",
   "execution_count": 20,
   "id": "beb03dd2",
   "metadata": {},
   "outputs": [],
   "source": [
    "def getTopLabels(pred, all_tokens):\n",
    "    df = pd.DataFrame(columns=all_tokens)\n",
    "    df.loc[0] = pred[0]\n",
    "    \n",
    "    labels = list(df.iloc[:, np.argsort(df.loc[0])].columns[-3:])\n",
    "    labels.reverse()\n",
    "    values = list(df.iloc[0, np.argsort(df.loc[0])][-3:])\n",
    "    values.reverse()\n",
    "    \n",
    "    return labels, values"
   ]
  },
  {
   "cell_type": "code",
   "execution_count": 21,
   "id": "2e794ed7",
   "metadata": {},
   "outputs": [],
   "source": [
    "genres = df.drop(columns=['Id', 'Genre']).columns"
   ]
  },
  {
   "cell_type": "code",
   "execution_count": 22,
   "id": "68f3aa49",
   "metadata": {},
   "outputs": [
    {
     "name": "stdout",
     "output_type": "stream",
     "text": [
      "1/1 [==============================] - 0s 117ms/step\n",
      "['Drama', 'Thriller', 'Action']\n",
      "[0.6862427592277527, 0.2519712448120117, 0.22690381109714508]\n"
     ]
    }
   ],
   "source": [
    "# Predict top 3 labels for the first movie image\n",
    "pred = model.predict(np.array([images_list_resized[0]]))\n",
    "labels, values = getTopLabels(pred, genres)\n",
    "print(labels)\n",
    "print(values)"
   ]
  },
  {
   "cell_type": "code",
   "execution_count": 23,
   "id": "de4575a9",
   "metadata": {},
   "outputs": [
    {
     "data": {
      "image/png": "[encoded data removed]",
      "text/plain": [
       "<Figure size 800x800 with 2 Axes>"
      ]
     },
     "metadata": {},
     "output_type": "display_data"
    }
   ],
   "source": [
    "acc = history.history['accuracy']\n",
    "len(acc)\n",
    "val_acc = history.history['val_accuracy']\n",
    "len(val_acc)\n",
    "\n",
    "loss = history.history['loss']\n",
    "val_loss = history.history['val_loss']\n",
    "\n",
    "epochs_range = range(10)\n",
    "\n",
    "plt.figure(figsize=(8, 8))\n",
    "plt.subplot(1, 2, 1)\n",
    "plt.plot(epochs_range, acc, label='Training Accuracy')\n",
    "plt.plot(epochs_range, val_acc, label='Validation Accuracy')\n",
    "plt.legend(loc='lower right')\n",
    "plt.title('Training and Validation Accuracy')\n",
    "\n",
    "plt.subplot(1, 2, 2)\n",
    "plt.plot(epochs_range, loss, label='Training Loss')\n",
    "plt.plot(epochs_range, val_loss, label='Validation Loss')\n",
    "plt.legend(loc='upper right')\n",
    "plt.title('Training and Validation Loss')\n",
    "plt.show()"
   ]
  },
  {
   "cell_type": "code",
   "execution_count": 24,
   "id": "5351bf71",
   "metadata": {},
   "outputs": [
    {
     "data": {
      "text/plain": [
       "[0.2518397271633148, 0.22605100274085999]"
      ]
     },
     "execution_count": 24,
     "metadata": {},
     "output_type": "execute_result"
    }
   ],
   "source": [
    "loss = model.evaluate(X_test, y_test, verbose=0)\n",
    "loss"
   ]
  },
  {
   "cell_type": "code",
   "execution_count": 25,
   "id": "07923de9",
   "metadata": {},
   "outputs": [
    {
     "name": "stderr",
     "output_type": "stream",
     "text": [
      "/Users/stefaniamindoiu/Library/Python/3.9/lib/python/site-packages/keras/src/engine/training.py:3000: UserWarning: You are saving your model as an HDF5 file via `model.save()`. This file format is considered legacy. We recommend using instead the native Keras format, e.g. `model.save('my_model.keras')`.\n",
      "  saving_api.save_model(\n"
     ]
    }
   ],
   "source": [
    "model.save('model-movie-genre.h5')"
   ]
  },
  {
   "cell_type": "code",
   "execution_count": 26,
   "id": "416a900e",
   "metadata": {},
   "outputs": [
    {
     "data": {
      "text/plain": [
       "array(['Action', 'Adventure', 'Animation', 'Biography', 'Comedy', 'Crime',\n",
       "       'Documentary', 'Drama', 'Family', 'Fantasy', 'History', 'Horror',\n",
       "       'Music', 'Musical', 'Mystery', 'N/A', 'News', 'Reality-TV',\n",
       "       'Romance', 'Sci-Fi', 'Short', 'Sport', 'Thriller', 'War',\n",
       "       'Western'], dtype='<U11')"
      ]
     },
     "execution_count": 26,
     "metadata": {},
     "output_type": "execute_result"
    }
   ],
   "source": [
    "np.save('genres', list(genres))\n",
    "np.load('genres.npy')"
   ]
  }
 ],
 "metadata": {
  "kernelspec": {
   "display_name": "Python 3 (ipykernel)",
   "language": "python",
   "name": "python3"
  },
  "language_info": {
   "codemirror_mode": {
    "name": "ipython",
    "version": 3
   },
   "file_extension": ".py",
   "mimetype": "text/x-python",
   "name": "python",
   "nbconvert_exporter": "python",
   "pygments_lexer": "ipython3",
   "version": "3.9.6"
  }
 },
 "nbformat": 4,
 "nbformat_minor": 5
}
